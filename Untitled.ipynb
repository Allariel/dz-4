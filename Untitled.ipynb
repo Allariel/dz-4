{
 "cells": [
  {
   "cell_type": "code",
   "execution_count": 2,
   "id": "6d5ed11b",
   "metadata": {},
   "outputs": [
    {
     "name": "stdout",
     "output_type": "stream",
     "text": [
      "d3\n",
      "3.142\n"
     ]
    }
   ],
   "source": [
    "#Вычислить число c заданной точностью d\n",
    "from math import pi\n",
    "\n",
    "num = pi\n",
    "d = int(input(\"d\"))\n",
    "print(round(num, d))"
   ]
  },
  {
   "cell_type": "code",
   "execution_count": 5,
   "id": "cf65aa34",
   "metadata": {},
   "outputs": [
    {
     "name": "stdout",
     "output_type": "stream",
     "text": [
      "Введите число: 360\n",
      "[2, 2, 2, 3, 3, 5]\n"
     ]
    }
   ],
   "source": [
    "#Задайте натуральное число N. Напишите программу, которая составит список простых множителей числа N.\n",
    "\n",
    "def Simple(num):\n",
    "    i = 2  \n",
    "    lst = []\n",
    "    old = num\n",
    "    while i <= num:\n",
    "        if num % i == 0:\n",
    "            lst.append(i)\n",
    "            num //= i\n",
    "            i = 2\n",
    "        else:\n",
    "            i += 1\n",
    "    print(lst)\n",
    "\n",
    "\n",
    "\n",
    "num = int(input(\"Введите число: \"))\n",
    "Simple(num)\n"
   ]
  },
  {
   "cell_type": "code",
   "execution_count": 11,
   "id": "20411fc6",
   "metadata": {},
   "outputs": [
    {
     "name": "stdout",
     "output_type": "stream",
     "text": [
      "[1, 1, 1, 2, 2, 2, 3, 3, 3, 4, 4, 4, 5, 5, 5, 6, 6, 6, 7, 7, 7, 8, 8, 8, 9, 9, 9, 10, 10, 10, 11, 11, 11, 12, 12, 12, 13, 13, 13, 14, 14, 14, 1, 1, 1, 2, 2, 2, 3, 3, 3, 4, 4, 4, 5, 5, 5, 6, 6, 6, 7, 7, 7, 8, 8, 8, 9, 9, 9, 10, 10, 10, 11, 11, 11, 12, 12, 12, 13, 13, 13, 14, 14, 14, 1, 1, 1, 2, 2, 2, 3, 3, 3, 4, 4, 4, 5, 5, 5, 6, 6, 6, 7, 7, 7, 8, 8, 8, 9, 9, 9, 10, 10, 10, 11, 11, 11, 12, 12, 12, 13, 13, 13, 14, 14, 14]\n",
      "[1, 2, 3, 4, 5, 6, 7, 8, 9, 10, 11, 12, 13, 14]\n"
     ]
    }
   ],
   "source": [
    "#Задайте последовательность чисел. Напишите программу\n",
    "from itertools import chain\n",
    "\n",
    "\n",
    "mylist = list(chain.from_iterable([[i]*3 for i in range(1, 15)]*3))\n",
    "print(mylist)\n",
    "mylist = list(set(mylist))\n",
    "print(mylist)"
   ]
  },
  {
   "cell_type": "code",
   "execution_count": 33,
   "id": "271db62c",
   "metadata": {},
   "outputs": [
    {
     "name": "stdout",
     "output_type": "stream",
     "text": [
      "Введите натуральную степень k = 25\n"
     ]
    }
   ],
   "source": [
    "#адана натуральная степень k. Сформировать случайным образом список коэффициентов (значения от 0 до 100) многочлена и записать в файл многочлен степени k.\n",
    "import random\n",
    "\n",
    "def result(k):\n",
    "    lst = [random.randint(0, 101) for i in range(k+1)]\n",
    "    lst = lst[::-1]\n",
    "    wr = ''\n",
    "    if len(lst) < 1:\n",
    "        wr = 'x = 0'\n",
    "    else:\n",
    "        for i in range(len(lst)):\n",
    "            if lst[i]==0 and i != len(lst)-1 and i !=0 and lst[i+1]!=0:\n",
    "                wr += ' + '\n",
    "            if i != len(lst) - 1 and lst[i] != 0 and i != len(lst) - 2:\n",
    "                wr += f'{lst[i]}*x^{len(lst)-i-1}'\n",
    "                if lst[i+1] != 0:\n",
    "                    wr += ' + '\n",
    "            elif i == len(lst) - 2 and lst[i] != 0:\n",
    "                wr += f'{lst[i]}*x'\n",
    "                if lst[i+1] != 0:\n",
    "                    wr += ' + '\n",
    "            elif i == len(lst) - 1 and lst[i] != 0:\n",
    "                wr += f'{lst[i]} = 0'\n",
    "            elif i == len(lst) - 1 and lst[i] == 0:\n",
    "                wr += ' = 0'\n",
    "    return wr\n",
    "\n",
    "\n",
    "k = int(input(\"k = \"))\n",
    "res = result(k)\n",
    "with open('result.txt', 'w') as data:\n",
    "        data.write(res)"
   ]
  },
  {
   "cell_type": "code",
   "execution_count": 34,
   "id": "74d5d291",
   "metadata": {},
   "outputs": [
    {
     "name": "stdout",
     "output_type": "stream",
     "text": [
      "k = 50\n",
      "k = 50\n"
     ]
    }
   ],
   "source": []
  },
  {
   "cell_type": "code",
   "execution_count": null,
   "id": "e11fe2fa",
   "metadata": {},
   "outputs": [],
   "source": []
  }
 ],
 "metadata": {
  "kernelspec": {
   "display_name": "Python 3 (ipykernel)",
   "language": "python",
   "name": "python3"
  },
  "language_info": {
   "codemirror_mode": {
    "name": "ipython",
    "version": 3
   },
   "file_extension": ".py",
   "mimetype": "text/x-python",
   "name": "python",
   "nbconvert_exporter": "python",
   "pygments_lexer": "ipython3",
   "version": "3.9.13"
  }
 },
 "nbformat": 4,
 "nbformat_minor": 5
}
